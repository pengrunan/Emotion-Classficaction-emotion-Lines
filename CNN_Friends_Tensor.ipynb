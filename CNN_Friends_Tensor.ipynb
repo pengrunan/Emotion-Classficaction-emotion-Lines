{
 "cells": [
  {
   "cell_type": "code",
   "execution_count": 1,
   "metadata": {},
   "outputs": [],
   "source": [
    "import matplotlib.pyplot as plt\n",
    "import os\n",
    "import re\n",
    "import shutil\n",
    "import string\n",
    "import tensorflow as tf\n",
    "from tensorflow.keras import regularizers\n",
    "\n",
    "from tensorflow.keras import layers\n",
    "from tensorflow.keras import losses\n",
    "\n",
    "from collections import Counter\n",
    "\n",
    "\n",
    "import pandas as pd\n",
    "import numpy as np\n",
    "import json\n",
    "\n",
    "from sklearn.preprocessing import LabelEncoder\n",
    "from sklearn.model_selection import train_test_split\n",
    "from sklearn.metrics import classification_report\n",
    "\n",
    "from tensorflow.keras import preprocessing\n",
    "from tensorflow.keras.preprocessing.text import Tokenizer\n",
    "from tensorflow.keras.preprocessing.sequence import pad_sequences\n",
    "\n",
    "import pydot"
   ]
  },
  {
   "cell_type": "code",
   "execution_count": 2,
   "metadata": {},
   "outputs": [
    {
     "name": "stdout",
     "output_type": "stream",
     "text": [
      "2.7.0\n"
     ]
    }
   ],
   "source": [
    "print(tf.__version__)"
   ]
  },
  {
   "cell_type": "code",
   "execution_count": 3,
   "metadata": {},
   "outputs": [
    {
     "name": "stdout",
     "output_type": "stream",
     "text": [
      "Default GPU Device:/device:GPU:0\n"
     ]
    }
   ],
   "source": [
    "if tf.test.gpu_device_name(): \n",
    "    print('Default GPU Device:{}'.format(tf.test.gpu_device_name()))\n",
    "\n",
    "else:\n",
    "    print(\"Please install GPU version of TF\")"
   ]
  },
  {
   "cell_type": "code",
   "execution_count": 4,
   "metadata": {},
   "outputs": [],
   "source": [
    "def clean_text(text ): \n",
    "    delete_dict = {sp_character: '' for sp_character in string.punctuation} \n",
    "    delete_dict[' '] = ' ' \n",
    "    table = str.maketrans(delete_dict)\n",
    "    text1 = text.translate(table)\n",
    "    #print('cleaned:'+text1)\n",
    "    textArr= text1.split()\n",
    "    text2 = ' '.join([w for w in textArr if ( not w.isdigit() and  ( not w.isdigit() and len(w)>2))]) \n",
    "    \n",
    "    return text2.lower()"
   ]
  },
  {
   "cell_type": "code",
   "execution_count": 5,
   "metadata": {},
   "outputs": [],
   "source": [
    "def create_df(path):\n",
    "    with open(path) as file: \n",
    "        data = json.load(file)\n",
    "    speaker = []\n",
    "    utterance = []\n",
    "    emotion = []\n",
    "    annotation = []\n",
    "    for d in data: \n",
    "        speaker.extend([d[i]['speaker'] for i in range(len(d))])\n",
    "        utterance.extend([d[i]['utterance'] for i in range(len(d))])\n",
    "        emotion.extend([d[i]['emotion'] for i in range(len(d))])\n",
    "        annotation.extend([d[i]['annotation'] for i in range(len(d))])\n",
    "\n",
    "    df = pd.DataFrame({'speaker':speaker,'utterance':utterance,\n",
    "                    'emotion':emotion, 'annotation':annotation})\n",
    "    \n",
    "    df = clean_utterance(df)\n",
    "    \n",
    "    return df"
   ]
  },
  {
   "cell_type": "code",
   "execution_count": 6,
   "metadata": {},
   "outputs": [],
   "source": [
    "def clean_utterance(df):\n",
    "    utterance = df['utterance']\n",
    "    new_utterance = []\n",
    "    for ut in utterance: \n",
    "        token = ut.split()\n",
    "        clean_token = list(map(lambda x: x.replace(\"\\x92\",\"'\"), token))\n",
    "        clean_sent = \" \".join(clean_token)\n",
    "        new_utterance.append(clean_sent)\n",
    "    df['utterance'] = new_utterance\n",
    "\n",
    "    return df"
   ]
  },
  {
   "cell_type": "code",
   "execution_count": 7,
   "metadata": {},
   "outputs": [],
   "source": [
    "train_df = create_df('friends_train.json')\n",
    "test_df = create_df('friends_test.json')\n",
    "dev_df = create_df('friends_dev.json')"
   ]
  },
  {
   "cell_type": "code",
   "execution_count": 8,
   "metadata": {},
   "outputs": [
    {
     "name": "stdout",
     "output_type": "stream",
     "text": [
      "-------Train data--------\n",
      "neutral        3637\n",
      "non-neutral    1729\n",
      "joy             972\n",
      "surprise        837\n",
      "anger           423\n",
      "sadness         319\n",
      "disgust         209\n",
      "fear            160\n",
      "Name: emotion, dtype: int64\n",
      "8286\n",
      "-------------------------\n",
      "Train Max Sentence Length :69\n"
     ]
    }
   ],
   "source": [
    "train_df.dropna(axis = 0, how ='any',inplace=True) \n",
    "train_df['Num_words_text'] = train_df['utterance'].apply(lambda x:len(str(x).split())) \n",
    "mask = train_df['Num_words_text'] >2\n",
    "train_df = train_df[mask]\n",
    "\n",
    "print('-------Train data--------')\n",
    "print(train_df['emotion'].value_counts())\n",
    "print(len(train_df))\n",
    "print('-------------------------')\n",
    "max_train_sentence_length  = train_df['Num_words_text'].max()\n",
    "\n",
    "train_df['utterance'] = train_df['utterance'].apply(clean_text)\n",
    "\n",
    "print('Train Max Sentence Length :'+str(max_train_sentence_length))"
   ]
  },
  {
   "cell_type": "code",
   "execution_count": 9,
   "metadata": {
    "scrolled": false
   },
   "outputs": [
    {
     "name": "stdout",
     "output_type": "stream",
     "text": [
      "-------Train data--------\n",
      "neutral        993\n",
      "non-neutral    470\n",
      "joy            221\n",
      "surprise       193\n",
      "anger          134\n",
      "sadness         78\n",
      "disgust         61\n",
      "fear            29\n",
      "Name: emotion, dtype: int64\n",
      "2179\n",
      "-------------------------\n",
      "Test Max Sentence Length :45\n"
     ]
    }
   ],
   "source": [
    "test_df.dropna(axis = 0, how ='any',inplace=True) \n",
    "test_df['Num_words_text'] = test_df['utterance'].apply(lambda x:len(str(x).split())) \n",
    "mask = test_df['Num_words_text'] >2\n",
    "test_df = test_df[mask]\n",
    "\n",
    "print('-------Train data--------')\n",
    "print(test_df['emotion'].value_counts())\n",
    "print(len(test_df))\n",
    "print('-------------------------')\n",
    "max_test_sentence_length  = test_df['Num_words_text'].max()\n",
    "\n",
    "test_df['utterance'] = test_df['utterance'].apply(clean_text)\n",
    "\n",
    "print('Test Max Sentence Length :'+str(max_test_sentence_length))"
   ]
  },
  {
   "cell_type": "markdown",
   "metadata": {},
   "source": [
    "---"
   ]
  },
  {
   "cell_type": "markdown",
   "metadata": {},
   "source": [
    "### CNN Model "
   ]
  },
  {
   "cell_type": "code",
   "execution_count": 30,
   "metadata": {},
   "outputs": [
    {
     "name": "stdout",
     "output_type": "stream",
     "text": [
      "[[472, 1, 18, 2]]\n"
     ]
    }
   ],
   "source": [
    "num_words = 20000\n",
    "\n",
    "tokenizer = Tokenizer(num_words=num_words,oov_token=\"unk\")\n",
    "tokenizer.fit_on_texts(train_df['utterance'].tolist())\n",
    "\n",
    "\n",
    "print(str(tokenizer.texts_to_sequences(['hope me are you'])))"
   ]
  },
  {
   "cell_type": "code",
   "execution_count": 31,
   "metadata": {},
   "outputs": [
    {
     "name": "stdout",
     "output_type": "stream",
     "text": [
      "Train data len:8203\n",
      "Class distributionCounter({'neutral': 3600, 'non-neutral': 1712, 'joy': 962, 'surprise': 829, 'anger': 419, 'sadness': 316, 'disgust': 207, 'fear': 158})\n",
      "Valid data len:83\n",
      "Class distributionCounter({'neutral': 37, 'non-neutral': 17, 'joy': 10, 'surprise': 8, 'anger': 4, 'sadness': 3, 'disgust': 2, 'fear': 2})\n",
      "[ 14  78  20 147   0   0   0   0   0   0   0   0   0   0   0   0   0   0\n",
      "   0   0   0   0   0   0   0   0   0   0   0   0   0   0   0   0   0   0\n",
      "   0   0   0   0]\n"
     ]
    },
    {
     "name": "stderr",
     "output_type": "stream",
     "text": [
      "C:\\Users\\rpeng\\AppData\\Local\\Temp/ipykernel_22352/1932801625.py:14: VisibleDeprecationWarning: Creating an ndarray from ragged nested sequences (which is a list-or-tuple of lists-or-tuples-or ndarrays with different lengths or shapes) is deprecated. If you meant to do this, you must specify 'dtype=object' when creating the ndarray\n",
      "  x_train = np.array( tokenizer.texts_to_sequences(X_train) )\n",
      "C:\\Users\\rpeng\\AppData\\Local\\Temp/ipykernel_22352/1932801625.py:15: VisibleDeprecationWarning: Creating an ndarray from ragged nested sequences (which is a list-or-tuple of lists-or-tuples-or ndarrays with different lengths or shapes) is deprecated. If you meant to do this, you must specify 'dtype=object' when creating the ndarray\n",
      "  x_valid = np.array( tokenizer.texts_to_sequences(X_valid) )\n",
      "C:\\Users\\rpeng\\AppData\\Local\\Temp/ipykernel_22352/1932801625.py:16: VisibleDeprecationWarning: Creating an ndarray from ragged nested sequences (which is a list-or-tuple of lists-or-tuples-or ndarrays with different lengths or shapes) is deprecated. If you meant to do this, you must specify 'dtype=object' when creating the ndarray\n",
      "  x_test  = np.array( tokenizer.texts_to_sequences(test_df['utterance'].tolist()) )\n"
     ]
    }
   ],
   "source": [
    "X_train, X_valid, y_train, y_valid = train_test_split(train_df['utterance'].tolist(),\\\n",
    "                                                      train_df['emotion'].tolist(),\\\n",
    "                                                      test_size=0.01,\\\n",
    "                                                      stratify = train_df['emotion'].tolist(),\\\n",
    "                                                      random_state=0)\n",
    "\n",
    "\n",
    "print('Train data len:'+str(len(X_train)))\n",
    "print('Class distribution'+str(Counter(y_train)))\n",
    "print('Valid data len:'+str(len(X_valid)))\n",
    "print('Class distribution'+ str(Counter(y_valid)))\n",
    "\n",
    "\n",
    "x_train = np.array( tokenizer.texts_to_sequences(X_train) )\n",
    "x_valid = np.array( tokenizer.texts_to_sequences(X_valid) )\n",
    "x_test  = np.array( tokenizer.texts_to_sequences(test_df['utterance'].tolist()) )\n",
    "\n",
    "\n",
    "\n",
    "x_train = pad_sequences(x_train, padding='post', maxlen=40)\n",
    "x_valid = pad_sequences(x_valid, padding='post', maxlen=40)\n",
    "x_test = pad_sequences(x_test, padding='post', maxlen=40)\n",
    "\n",
    "print(x_train[0])\n",
    "\n",
    "le = LabelEncoder()\n",
    "\n",
    "train_labels = le.fit_transform(y_train)\n",
    "train_labels = np.asarray( tf.keras.utils.to_categorical(train_labels))\n",
    "#print(train_labels)\n",
    "valid_labels = le.transform(y_valid)\n",
    "valid_labels = np.asarray( tf.keras.utils.to_categorical(valid_labels))\n",
    "\n",
    "test_labels = le.transform(test_df['emotion'].tolist())\n",
    "test_labels = np.asarray(tf.keras.utils.to_categorical(test_labels))\n",
    "list(le.classes_)\n",
    "\n",
    "\n",
    "train_ds = tf.data.Dataset.from_tensor_slices((x_train,train_labels))\n",
    "valid_ds = tf.data.Dataset.from_tensor_slices((x_valid,valid_labels))\n",
    "test_ds = tf.data.Dataset.from_tensor_slices((x_test,test_labels))"
   ]
  },
  {
   "cell_type": "code",
   "execution_count": 32,
   "metadata": {},
   "outputs": [
    {
     "name": "stdout",
     "output_type": "stream",
     "text": [
      "['neutral', 'joy', 'non-neutral', 'anger', 'non-neutral', 'joy', 'disgust', 'non-neutral', 'surprise', 'non-neutral']\n",
      "Text to number\n",
      "[4 3 5 0 5 3 1 5 7 5]\n",
      "Number to category\n",
      "[[0. 0. 0. 0. 1. 0. 0. 0.]\n",
      " [0. 0. 0. 1. 0. 0. 0. 0.]\n",
      " [0. 0. 0. 0. 0. 1. 0. 0.]\n",
      " [1. 0. 0. 0. 0. 0. 0. 0.]\n",
      " [0. 0. 0. 0. 0. 1. 0. 0.]\n",
      " [0. 0. 0. 1. 0. 0. 0. 0.]\n",
      " [0. 1. 0. 0. 0. 0. 0. 0.]\n",
      " [0. 0. 0. 0. 0. 1. 0. 0.]\n",
      " [0. 0. 0. 0. 0. 0. 0. 1.]\n",
      " [0. 0. 0. 0. 0. 1. 0. 0.]]\n"
     ]
    }
   ],
   "source": [
    "print(y_train[:10])\n",
    "train_labels = le.fit_transform(y_train)\n",
    "print('Text to number')\n",
    "print(train_labels[:10])\n",
    "train_labels = np.asarray( tf.keras.utils.to_categorical(train_labels))\n",
    "print('Number to category')\n",
    "print(train_labels[:10])"
   ]
  },
  {
   "cell_type": "code",
   "execution_count": 34,
   "metadata": {},
   "outputs": [
    {
     "name": "stdout",
     "output_type": "stream",
     "text": [
      "Model: \"sequential\"\n",
      "_________________________________________________________________\n",
      " Layer (type)                Output Shape              Param #   \n",
      "=================================================================\n",
      " embedding (Embedding)       (None, 40, 64)            1280064   \n",
      "                                                                 \n",
      " conv1d (Conv1D)             (None, 33, 64)            32832     \n",
      "                                                                 \n",
      " batch_normalization (BatchN  (None, 33, 64)           256       \n",
      " ormalization)                                                   \n",
      "                                                                 \n",
      " global_max_pooling1d (Globa  (None, 64)               0         \n",
      " lMaxPooling1D)                                                  \n",
      "                                                                 \n",
      " dropout_37 (Dropout)        (None, 64)                0         \n",
      "                                                                 \n",
      " dense_1 (Dense)             (None, 8)                 520       \n",
      "                                                                 \n",
      "=================================================================\n",
      "Total params: 1,313,672\n",
      "Trainable params: 1,313,544\n",
      "Non-trainable params: 128\n",
      "_________________________________________________________________\n"
     ]
    }
   ],
   "source": [
    "max_features =20000\n",
    "embedding_dim = 64\n",
    "sequence_length = 40\n",
    "\n",
    "model = tf.keras.Sequential()\n",
    "model.add(tf.keras.layers.Embedding(max_features +1, embedding_dim, input_length=sequence_length,\\\n",
    "                                    embeddings_regularizer = regularizers.l2(0.001)))                                    \n",
    "\n",
    "model.add(tf.keras.layers.Conv1D(64,8, activation='relu',\\\n",
    "                                 kernel_regularizer = regularizers.l2(0.001),\\\n",
    "                                 bias_regularizer = regularizers.l2(0.001)))       \n",
    "\n",
    "model.add(tf.keras.layers.BatchNormalization())\n",
    "\n",
    "model.add(tf.keras.layers.GlobalMaxPooling1D())\n",
    "\n",
    "model.add(tf.keras.layers.Dropout(0.5))\n",
    "\n",
    "model.add(tf.keras.layers.Dense(8, activation='sigmoid',\\\n",
    "                                kernel_regularizer=regularizers.l2(0.001),\\\n",
    "                                bias_regularizer=regularizers.l2(0.001),))\n",
    "\n",
    "model.summary()\n",
    "model.compile(loss=tf.keras.losses.CategoricalCrossentropy(from_logits=True), optimizer='adam', metrics=[\"CategoricalAccuracy\"])"
   ]
  },
  {
   "cell_type": "code",
   "execution_count": 36,
   "metadata": {},
   "outputs": [
    {
     "name": "stdout",
     "output_type": "stream",
     "text": [
      "Epoch 1/100\n"
     ]
    },
    {
     "name": "stderr",
     "output_type": "stream",
     "text": [
      "c:\\users\\rpeng\\appdata\\local\\programs\\python\\python39\\lib\\site-packages\\tensorflow\\python\\util\\dispatch.py:1096: UserWarning: \"`categorical_crossentropy` received `from_logits=True`, but the `output` argument was produced by a sigmoid or softmax activation and thus does not represent logits. Was this intended?\"\n",
      "  return dispatch_target(*args, **kwargs)\n"
     ]
    },
    {
     "name": "stdout",
     "output_type": "stream",
     "text": [
      "65/65 [==============================] - 7s 35ms/step - loss: 2.2289 - categorical_accuracy: 0.3704 - val_loss: 2.0465 - val_categorical_accuracy: 0.4458\n",
      "Epoch 2/100\n",
      "65/65 [==============================] - 2s 29ms/step - loss: 1.7371 - categorical_accuracy: 0.4642 - val_loss: 2.0670 - val_categorical_accuracy: 0.4458\n",
      "Epoch 3/100\n",
      "65/65 [==============================] - 2s 25ms/step - loss: 1.5952 - categorical_accuracy: 0.5019 - val_loss: 2.0606 - val_categorical_accuracy: 0.4458\n",
      "Epoch 4/100\n",
      "65/65 [==============================] - 1s 19ms/step - loss: 1.4550 - categorical_accuracy: 0.5592 - val_loss: 2.0575 - val_categorical_accuracy: 0.4578\n",
      "Epoch 5/100\n",
      "65/65 [==============================] - 1s 20ms/step - loss: 1.3256 - categorical_accuracy: 0.6075 - val_loss: 2.0339 - val_categorical_accuracy: 0.4699\n",
      "Epoch 6/100\n",
      "65/65 [==============================] - 1s 22ms/step - loss: 1.2051 - categorical_accuracy: 0.6635 - val_loss: 2.0081 - val_categorical_accuracy: 0.4819\n",
      "Epoch 7/100\n",
      "65/65 [==============================] - 1s 20ms/step - loss: 1.0952 - categorical_accuracy: 0.7018 - val_loss: 2.0175 - val_categorical_accuracy: 0.4578\n",
      "Epoch 8/100\n",
      "65/65 [==============================] - 1s 20ms/step - loss: 1.0416 - categorical_accuracy: 0.7257 - val_loss: 1.9357 - val_categorical_accuracy: 0.4819\n",
      "Epoch 9/100\n",
      "65/65 [==============================] - 1s 20ms/step - loss: 0.9505 - categorical_accuracy: 0.7672 - val_loss: 1.9136 - val_categorical_accuracy: 0.4699\n",
      "Epoch 10/100\n",
      "65/65 [==============================] - 1s 19ms/step - loss: 0.8911 - categorical_accuracy: 0.7857 - val_loss: 1.9341 - val_categorical_accuracy: 0.4096\n",
      "Epoch 11/100\n",
      "65/65 [==============================] - 1s 14ms/step - loss: 0.8627 - categorical_accuracy: 0.7979 - val_loss: 1.9409 - val_categorical_accuracy: 0.4819\n",
      "Epoch 12/100\n",
      "65/65 [==============================] - 1s 16ms/step - loss: 0.8202 - categorical_accuracy: 0.8120 - val_loss: 1.9941 - val_categorical_accuracy: 0.4940\n",
      "Epoch 13/100\n",
      "65/65 [==============================] - 1s 16ms/step - loss: 0.8081 - categorical_accuracy: 0.8210 - val_loss: 2.1547 - val_categorical_accuracy: 0.4458\n",
      "Epoch 14/100\n",
      "65/65 [==============================] - 5s 82ms/step - loss: 0.7735 - categorical_accuracy: 0.8353 - val_loss: 2.2387 - val_categorical_accuracy: 0.5181\n",
      "Epoch 15/100\n",
      "65/65 [==============================] - 5s 73ms/step - loss: 0.7398 - categorical_accuracy: 0.8452 - val_loss: 2.2678 - val_categorical_accuracy: 0.5060\n",
      "Epoch 16/100\n",
      "65/65 [==============================] - 1s 17ms/step - loss: 0.7215 - categorical_accuracy: 0.8516 - val_loss: 2.3969 - val_categorical_accuracy: 0.4940\n",
      "Epoch 17/100\n",
      "65/65 [==============================] - 1s 14ms/step - loss: 0.7115 - categorical_accuracy: 0.8560 - val_loss: 2.5134 - val_categorical_accuracy: 0.4699\n",
      "Epoch 18/100\n",
      "65/65 [==============================] - 1s 14ms/step - loss: 0.6933 - categorical_accuracy: 0.8655 - val_loss: 2.4512 - val_categorical_accuracy: 0.4578\n",
      "Epoch 19/100\n",
      "65/65 [==============================] - 1s 16ms/step - loss: 0.6978 - categorical_accuracy: 0.8624 - val_loss: 2.4285 - val_categorical_accuracy: 0.4699\n",
      "Epoch 20/100\n",
      "65/65 [==============================] - 1s 14ms/step - loss: 0.6933 - categorical_accuracy: 0.8616 - val_loss: 2.2890 - val_categorical_accuracy: 0.5181\n",
      "Epoch 21/100\n",
      "65/65 [==============================] - 1s 15ms/step - loss: 0.6889 - categorical_accuracy: 0.8679 - val_loss: 2.5905 - val_categorical_accuracy: 0.4337\n",
      "Epoch 22/100\n",
      "65/65 [==============================] - 1s 18ms/step - loss: 0.6505 - categorical_accuracy: 0.8770 - val_loss: 2.6720 - val_categorical_accuracy: 0.3976\n",
      "Epoch 23/100\n",
      "65/65 [==============================] - 1s 15ms/step - loss: 0.6434 - categorical_accuracy: 0.8826 - val_loss: 2.7321 - val_categorical_accuracy: 0.4458\n",
      "Epoch 24/100\n",
      "65/65 [==============================] - 1s 14ms/step - loss: 0.6559 - categorical_accuracy: 0.8824 - val_loss: 2.7327 - val_categorical_accuracy: 0.4217\n",
      "Epoch 25/100\n",
      "65/65 [==============================] - 1s 15ms/step - loss: 0.6472 - categorical_accuracy: 0.8809 - val_loss: 2.7022 - val_categorical_accuracy: 0.3976\n",
      "Epoch 26/100\n",
      "65/65 [==============================] - 1s 14ms/step - loss: 0.6351 - categorical_accuracy: 0.8882 - val_loss: 2.6409 - val_categorical_accuracy: 0.4940\n",
      "Epoch 27/100\n",
      "65/65 [==============================] - 1s 12ms/step - loss: 0.6331 - categorical_accuracy: 0.8887 - val_loss: 2.7386 - val_categorical_accuracy: 0.4217\n",
      "Epoch 28/100\n",
      "65/65 [==============================] - 1s 11ms/step - loss: 0.6160 - categorical_accuracy: 0.8932 - val_loss: 2.5513 - val_categorical_accuracy: 0.4578\n",
      "Epoch 29/100\n",
      "65/65 [==============================] - 1s 16ms/step - loss: 0.6149 - categorical_accuracy: 0.8941 - val_loss: 2.6742 - val_categorical_accuracy: 0.4458\n",
      "Epoch 30/100\n",
      "65/65 [==============================] - 1s 14ms/step - loss: 0.6143 - categorical_accuracy: 0.8958 - val_loss: 2.8050 - val_categorical_accuracy: 0.4458\n",
      "Epoch 31/100\n",
      "65/65 [==============================] - 1s 12ms/step - loss: 0.6168 - categorical_accuracy: 0.8956 - val_loss: 2.6814 - val_categorical_accuracy: 0.4217\n",
      "Epoch 32/100\n",
      "65/65 [==============================] - 3s 46ms/step - loss: 0.6128 - categorical_accuracy: 0.8970 - val_loss: 2.7028 - val_categorical_accuracy: 0.4940\n",
      "Epoch 33/100\n",
      "65/65 [==============================] - 3s 44ms/step - loss: 0.6066 - categorical_accuracy: 0.8997 - val_loss: 2.7719 - val_categorical_accuracy: 0.4940\n",
      "Epoch 34/100\n",
      "65/65 [==============================] - 2s 35ms/step - loss: 0.6189 - categorical_accuracy: 0.8933 - val_loss: 2.8936 - val_categorical_accuracy: 0.4337\n",
      "Epoch 35/100\n",
      "65/65 [==============================] - 2s 36ms/step - loss: 0.6070 - categorical_accuracy: 0.8995 - val_loss: 2.8834 - val_categorical_accuracy: 0.4940\n",
      "Epoch 36/100\n",
      "65/65 [==============================] - 2s 25ms/step - loss: 0.6045 - categorical_accuracy: 0.9014 - val_loss: 3.0967 - val_categorical_accuracy: 0.5060\n",
      "Epoch 37/100\n",
      "65/65 [==============================] - 2s 33ms/step - loss: 0.5971 - categorical_accuracy: 0.9026 - val_loss: 2.9126 - val_categorical_accuracy: 0.4699\n",
      "Epoch 38/100\n",
      "65/65 [==============================] - 2s 29ms/step - loss: 0.5977 - categorical_accuracy: 0.9008 - val_loss: 2.9877 - val_categorical_accuracy: 0.4819\n",
      "Epoch 39/100\n",
      "65/65 [==============================] - 2s 28ms/step - loss: 0.5772 - categorical_accuracy: 0.9092 - val_loss: 3.0424 - val_categorical_accuracy: 0.4940\n",
      "Epoch 40/100\n",
      "65/65 [==============================] - 2s 28ms/step - loss: 0.5943 - categorical_accuracy: 0.9027 - val_loss: 3.0104 - val_categorical_accuracy: 0.5301\n",
      "Epoch 41/100\n",
      "65/65 [==============================] - 2s 30ms/step - loss: 0.5787 - categorical_accuracy: 0.9091 - val_loss: 2.9819 - val_categorical_accuracy: 0.4940\n",
      "Epoch 42/100\n",
      "65/65 [==============================] - 2s 30ms/step - loss: 0.5661 - categorical_accuracy: 0.9106 - val_loss: 2.9480 - val_categorical_accuracy: 0.4819\n",
      "Epoch 43/100\n",
      "65/65 [==============================] - 2s 29ms/step - loss: 0.5658 - categorical_accuracy: 0.9128 - val_loss: 3.0448 - val_categorical_accuracy: 0.5301\n",
      "Epoch 44/100\n",
      "65/65 [==============================] - 1s 14ms/step - loss: 0.5660 - categorical_accuracy: 0.9103 - val_loss: 2.9766 - val_categorical_accuracy: 0.4578\n",
      "Epoch 45/100\n",
      "65/65 [==============================] - 1s 12ms/step - loss: 0.5857 - categorical_accuracy: 0.9002 - val_loss: 2.9843 - val_categorical_accuracy: 0.4578\n",
      "Epoch 46/100\n",
      "65/65 [==============================] - 1s 14ms/step - loss: 0.5998 - categorical_accuracy: 0.8998 - val_loss: 3.0239 - val_categorical_accuracy: 0.4337\n",
      "Epoch 47/100\n",
      "65/65 [==============================] - 1s 12ms/step - loss: 0.5821 - categorical_accuracy: 0.9092 - val_loss: 3.2279 - val_categorical_accuracy: 0.4578\n",
      "Epoch 48/100\n",
      "65/65 [==============================] - 1s 12ms/step - loss: 0.6179 - categorical_accuracy: 0.8966 - val_loss: 3.3963 - val_categorical_accuracy: 0.4217\n",
      "Epoch 49/100\n",
      "65/65 [==============================] - 1s 12ms/step - loss: 0.5808 - categorical_accuracy: 0.9104 - val_loss: 3.3413 - val_categorical_accuracy: 0.4217\n",
      "Epoch 50/100\n",
      "65/65 [==============================] - 1s 10ms/step - loss: 0.5674 - categorical_accuracy: 0.9161 - val_loss: 3.1512 - val_categorical_accuracy: 0.4699\n",
      "Epoch 51/100\n",
      "65/65 [==============================] - 1s 9ms/step - loss: 0.5888 - categorical_accuracy: 0.9044 - val_loss: 3.1414 - val_categorical_accuracy: 0.3976\n",
      "Epoch 52/100\n",
      "65/65 [==============================] - 1s 9ms/step - loss: 0.5675 - categorical_accuracy: 0.9116 - val_loss: 3.2730 - val_categorical_accuracy: 0.4458\n",
      "Epoch 53/100\n",
      "65/65 [==============================] - 1s 9ms/step - loss: 0.5725 - categorical_accuracy: 0.9127 - val_loss: 3.3532 - val_categorical_accuracy: 0.4819\n",
      "Epoch 54/100\n",
      "65/65 [==============================] - 1s 9ms/step - loss: 0.5569 - categorical_accuracy: 0.9145 - val_loss: 3.3468 - val_categorical_accuracy: 0.4578\n",
      "Epoch 55/100\n",
      "65/65 [==============================] - 1s 8ms/step - loss: 0.5617 - categorical_accuracy: 0.9150 - val_loss: 3.3364 - val_categorical_accuracy: 0.4096\n",
      "Epoch 56/100\n",
      "65/65 [==============================] - 1s 9ms/step - loss: 0.5472 - categorical_accuracy: 0.9192 - val_loss: 3.2534 - val_categorical_accuracy: 0.4699\n",
      "Epoch 57/100\n",
      "65/65 [==============================] - 1s 10ms/step - loss: 0.5457 - categorical_accuracy: 0.9192 - val_loss: 3.2563 - val_categorical_accuracy: 0.4096\n",
      "Epoch 58/100\n",
      "65/65 [==============================] - 1s 11ms/step - loss: 0.5483 - categorical_accuracy: 0.9166 - val_loss: 3.2498 - val_categorical_accuracy: 0.4819\n",
      "Epoch 59/100\n",
      "65/65 [==============================] - 1s 13ms/step - loss: 0.5526 - categorical_accuracy: 0.9160 - val_loss: 2.8991 - val_categorical_accuracy: 0.4699\n",
      "Epoch 60/100\n",
      "65/65 [==============================] - 1s 13ms/step - loss: 0.5552 - categorical_accuracy: 0.9156 - val_loss: 3.2234 - val_categorical_accuracy: 0.4458\n",
      "Epoch 61/100\n",
      "65/65 [==============================] - 1s 23ms/step - loss: 0.5431 - categorical_accuracy: 0.9175 - val_loss: 3.2422 - val_categorical_accuracy: 0.4096\n",
      "Epoch 62/100\n",
      "65/65 [==============================] - 2s 23ms/step - loss: 0.5440 - categorical_accuracy: 0.9192 - val_loss: 3.2615 - val_categorical_accuracy: 0.4578\n",
      "Epoch 63/100\n",
      "65/65 [==============================] - 1s 17ms/step - loss: 0.5475 - categorical_accuracy: 0.9212 - val_loss: 3.2218 - val_categorical_accuracy: 0.4578\n",
      "Epoch 64/100\n",
      "65/65 [==============================] - 1s 14ms/step - loss: 0.5399 - categorical_accuracy: 0.9161 - val_loss: 3.1447 - val_categorical_accuracy: 0.4699\n",
      "Epoch 65/100\n",
      "65/65 [==============================] - 1s 14ms/step - loss: 0.5522 - categorical_accuracy: 0.9165 - val_loss: 3.2220 - val_categorical_accuracy: 0.4096\n",
      "Epoch 66/100\n",
      "65/65 [==============================] - 1s 14ms/step - loss: 0.5787 - categorical_accuracy: 0.9104 - val_loss: 3.1507 - val_categorical_accuracy: 0.4819\n",
      "Epoch 67/100\n",
      "65/65 [==============================] - 1s 16ms/step - loss: 0.5465 - categorical_accuracy: 0.9184 - val_loss: 3.2981 - val_categorical_accuracy: 0.4578\n",
      "Epoch 68/100\n",
      "65/65 [==============================] - 2s 29ms/step - loss: 0.5583 - categorical_accuracy: 0.9163 - val_loss: 3.2641 - val_categorical_accuracy: 0.4699\n",
      "Epoch 69/100\n",
      "65/65 [==============================] - 2s 28ms/step - loss: 0.5339 - categorical_accuracy: 0.9217 - val_loss: 3.3306 - val_categorical_accuracy: 0.4337\n",
      "Epoch 70/100\n",
      "65/65 [==============================] - 2s 31ms/step - loss: 0.5178 - categorical_accuracy: 0.9315 - val_loss: 3.3741 - val_categorical_accuracy: 0.3976\n",
      "Epoch 71/100\n",
      "65/65 [==============================] - 2s 34ms/step - loss: 0.5231 - categorical_accuracy: 0.9276 - val_loss: 3.2596 - val_categorical_accuracy: 0.4699\n",
      "Epoch 72/100\n",
      "65/65 [==============================] - 2s 29ms/step - loss: 0.5184 - categorical_accuracy: 0.9259 - val_loss: 3.2513 - val_categorical_accuracy: 0.4337\n",
      "Epoch 73/100\n",
      "65/65 [==============================] - 2s 33ms/step - loss: 0.5182 - categorical_accuracy: 0.9259 - val_loss: 3.3115 - val_categorical_accuracy: 0.4337\n",
      "Epoch 74/100\n",
      "65/65 [==============================] - 2s 28ms/step - loss: 0.5237 - categorical_accuracy: 0.9239 - val_loss: 2.9063 - val_categorical_accuracy: 0.4096\n",
      "Epoch 75/100\n",
      "65/65 [==============================] - 2s 29ms/step - loss: 0.5117 - categorical_accuracy: 0.9289 - val_loss: 3.0547 - val_categorical_accuracy: 0.4940\n",
      "Epoch 76/100\n",
      "65/65 [==============================] - 2s 29ms/step - loss: 0.5122 - categorical_accuracy: 0.9278 - val_loss: 2.9642 - val_categorical_accuracy: 0.3614\n",
      "Epoch 77/100\n",
      "65/65 [==============================] - 3s 53ms/step - loss: 0.5104 - categorical_accuracy: 0.9289 - val_loss: 3.1515 - val_categorical_accuracy: 0.4940\n",
      "Epoch 78/100\n",
      "65/65 [==============================] - 3s 50ms/step - loss: 0.5057 - categorical_accuracy: 0.9283 - val_loss: 3.2752 - val_categorical_accuracy: 0.4578\n",
      "Epoch 79/100\n",
      "65/65 [==============================] - 3s 39ms/step - loss: 0.5045 - categorical_accuracy: 0.9286 - val_loss: 3.2255 - val_categorical_accuracy: 0.4578\n",
      "Epoch 80/100\n",
      "65/65 [==============================] - 2s 26ms/step - loss: 0.5051 - categorical_accuracy: 0.9286 - val_loss: 3.1243 - val_categorical_accuracy: 0.4699\n",
      "Epoch 81/100\n",
      "65/65 [==============================] - 2s 36ms/step - loss: 0.4987 - categorical_accuracy: 0.9314 - val_loss: 3.2183 - val_categorical_accuracy: 0.5060\n",
      "Epoch 82/100\n",
      "65/65 [==============================] - 2s 25ms/step - loss: 0.5002 - categorical_accuracy: 0.9311 - val_loss: 2.9668 - val_categorical_accuracy: 0.4337\n",
      "Epoch 83/100\n",
      "65/65 [==============================] - 2s 31ms/step - loss: 0.5069 - categorical_accuracy: 0.9262 - val_loss: 3.0685 - val_categorical_accuracy: 0.4819\n",
      "Epoch 84/100\n",
      "65/65 [==============================] - 1s 17ms/step - loss: 0.5240 - categorical_accuracy: 0.9214 - val_loss: 3.1040 - val_categorical_accuracy: 0.5181\n",
      "Epoch 85/100\n",
      "65/65 [==============================] - 1s 16ms/step - loss: 0.5029 - categorical_accuracy: 0.9273 - val_loss: 2.9993 - val_categorical_accuracy: 0.4940\n",
      "Epoch 86/100\n",
      "65/65 [==============================] - 1s 14ms/step - loss: 0.5290 - categorical_accuracy: 0.9223 - val_loss: 3.3317 - val_categorical_accuracy: 0.4940\n",
      "Epoch 87/100\n",
      "65/65 [==============================] - 1s 15ms/step - loss: 0.5111 - categorical_accuracy: 0.9277 - val_loss: 3.4300 - val_categorical_accuracy: 0.4578\n",
      "Epoch 88/100\n",
      "65/65 [==============================] - 1s 15ms/step - loss: 0.5081 - categorical_accuracy: 0.9273 - val_loss: 3.3953 - val_categorical_accuracy: 0.4578\n",
      "Epoch 89/100\n",
      "65/65 [==============================] - 1s 12ms/step - loss: 0.5159 - categorical_accuracy: 0.9254 - val_loss: 3.4279 - val_categorical_accuracy: 0.4819\n",
      "Epoch 90/100\n",
      "65/65 [==============================] - 1s 16ms/step - loss: 0.5137 - categorical_accuracy: 0.9250 - val_loss: 3.3631 - val_categorical_accuracy: 0.4699\n",
      "Epoch 91/100\n",
      "65/65 [==============================] - 1s 17ms/step - loss: 0.5268 - categorical_accuracy: 0.9217 - val_loss: 3.3326 - val_categorical_accuracy: 0.4699\n",
      "Epoch 92/100\n",
      "65/65 [==============================] - 1s 13ms/step - loss: 0.5094 - categorical_accuracy: 0.9278 - val_loss: 3.3305 - val_categorical_accuracy: 0.5181\n",
      "Epoch 93/100\n",
      "65/65 [==============================] - 1s 13ms/step - loss: 0.5074 - categorical_accuracy: 0.9299 - val_loss: 3.2035 - val_categorical_accuracy: 0.5181\n",
      "Epoch 94/100\n",
      "65/65 [==============================] - 1s 11ms/step - loss: 0.5090 - categorical_accuracy: 0.9234 - val_loss: 2.9478 - val_categorical_accuracy: 0.5181\n",
      "Epoch 95/100\n",
      "65/65 [==============================] - 1s 11ms/step - loss: 0.5080 - categorical_accuracy: 0.9262 - val_loss: 3.2583 - val_categorical_accuracy: 0.5422\n",
      "Epoch 96/100\n",
      "65/65 [==============================] - 1s 13ms/step - loss: 0.5152 - categorical_accuracy: 0.9255 - val_loss: 3.3800 - val_categorical_accuracy: 0.5181\n",
      "Epoch 97/100\n",
      "65/65 [==============================] - 1s 10ms/step - loss: 0.5050 - categorical_accuracy: 0.9281 - val_loss: 3.1955 - val_categorical_accuracy: 0.4940\n",
      "Epoch 98/100\n",
      "65/65 [==============================] - 1s 10ms/step - loss: 0.4973 - categorical_accuracy: 0.9306 - val_loss: 3.4029 - val_categorical_accuracy: 0.5181\n",
      "Epoch 99/100\n",
      "65/65 [==============================] - 1s 12ms/step - loss: 0.5100 - categorical_accuracy: 0.9249 - val_loss: 3.1948 - val_categorical_accuracy: 0.4940\n",
      "Epoch 100/100\n",
      "65/65 [==============================] - 1s 13ms/step - loss: 0.4977 - categorical_accuracy: 0.9327 - val_loss: 3.2502 - val_categorical_accuracy: 0.5060\n"
     ]
    }
   ],
   "source": [
    "epochs = 100\n",
    "history = model.fit(train_ds.shuffle(2000).batch(128),\n",
    "                    epochs= epochs ,\n",
    "                    validation_data=valid_ds.batch(128),\n",
    "                    verbose=1)"
   ]
  },
  {
   "cell_type": "code",
   "execution_count": 37,
   "metadata": {},
   "outputs": [
    {
     "data": {
      "image/png": "[encoded data removed]",
      "text/plain": [
       "<Figure size 432x288 with 1 Axes>"
      ]
     },
     "metadata": {
      "needs_background": "light"
     },
     "output_type": "display_data"
    }
   ],
   "source": [
    "plt.plot(history.history['loss'], label=' training data')\n",
    "plt.plot(history.history['val_loss'], label='validation data)')\n",
    "plt.title('Loss for Text Classification')\n",
    "plt.ylabel('Loss value')\n",
    "plt.xlabel('No. epoch')\n",
    "plt.legend(loc=\"upper left\")\n",
    "plt.show()"
   ]
  },
  {
   "cell_type": "code",
   "execution_count": 38,
   "metadata": {
    "scrolled": true
   },
   "outputs": [
    {
     "data": {
      "image/png": "[encoded data removed]",
      "text/plain": [
       "<Figure size 432x288 with 1 Axes>"
      ]
     },
     "metadata": {
      "needs_background": "light"
     },
     "output_type": "display_data"
    }
   ],
   "source": [
    "plt.plot(history.history['categorical_accuracy'], label=' (training data)')\n",
    "plt.plot(history.history['val_categorical_accuracy'], label='CategoricalCrossentropy (validation data)')\n",
    "plt.title('CategoricalAccuracy for Text Classification')\n",
    "plt.ylabel('CategoricalAccuracy value')\n",
    "plt.xlabel('No. epoch')\n",
    "plt.legend(loc=\"upper left\")\n",
    "plt.show()\n"
   ]
  },
  {
   "cell_type": "markdown",
   "metadata": {},
   "source": [
    "##### The first model we did, it through CNN. However, it's very clear from the training_accuracy VS validation_accuracy graph that\n",
    "##### this CNN modeld is overfitting. We have tried to used dropout functions and increasing the regulization, and the result stays \n",
    "#### the same. After the failiar of tuning the model,we decide to move on to another model, which is Transformer with BERT."
   ]
  },
  {
   "cell_type": "markdown",
   "metadata": {},
   "source": [
    "---"
   ]
  },
  {
   "cell_type": "markdown",
   "metadata": {},
   "source": [
    "### Transformer with BERT"
   ]
  },
  {
   "cell_type": "code",
   "execution_count": 10,
   "metadata": {},
   "outputs": [],
   "source": [
    "from transformers import BertTokenizer"
   ]
  },
  {
   "cell_type": "code",
   "execution_count": 11,
   "metadata": {},
   "outputs": [],
   "source": [
    "# set array dimensions\n",
    "seq_len = 512\n",
    "num_samples = len(train_df)\n",
    "\n",
    "# initialize empty zero arrays\n",
    "Xids = np.zeros((num_samples, seq_len))\n",
    "Xmask = np.zeros((num_samples, seq_len))\n",
    "\n",
    "# check shape\n",
    "Xids.shape\n",
    "\n",
    "# initialize tokenizer\n",
    "tokenizer = BertTokenizer.from_pretrained('bert-base-cased')\n",
    "\n",
    "for i, phrase in enumerate(train_df['utterance']):\n",
    "    tokens = tokenizer.encode_plus(phrase, max_length=seq_len, truncation=True,\n",
    "                                   padding='max_length', add_special_tokens=True,\n",
    "                                   return_tensors='tf')\n",
    "    # assign tokenized outputs to respective rows in numpy arrays\n",
    "    Xids[i, :] = tokens['input_ids']\n",
    "    Xmask[i, :] = tokens['attention_mask']"
   ]
  },
  {
   "cell_type": "code",
   "execution_count": 12,
   "metadata": {
    "scrolled": true
   },
   "outputs": [
    {
     "data": {
      "text/plain": [
       "['anger',\n",
       " 'disgust',\n",
       " 'fear',\n",
       " 'joy',\n",
       " 'neutral',\n",
       " 'non-neutral',\n",
       " 'sadness',\n",
       " 'surprise']"
      ]
     },
     "execution_count": 12,
     "metadata": {},
     "output_type": "execute_result"
    }
   ],
   "source": [
    "le = LabelEncoder()\n",
    "\n",
    "labels = le.fit_transform(train_df['emotion'])\n",
    "labels = np.asarray( tf.keras.utils.to_categorical(labels))\n",
    "list(le.classes_)"
   ]
  },
  {
   "cell_type": "code",
   "execution_count": 13,
   "metadata": {},
   "outputs": [
    {
     "data": {
      "text/plain": [
       "array([[0., 0., 0., ..., 0., 0., 0.],\n",
       "       [0., 0., 0., ..., 0., 0., 0.],\n",
       "       [0., 0., 0., ..., 0., 0., 0.],\n",
       "       ...,\n",
       "       [0., 0., 0., ..., 1., 0., 0.],\n",
       "       [0., 0., 0., ..., 0., 0., 1.],\n",
       "       [0., 0., 0., ..., 1., 0., 0.]], dtype=float32)"
      ]
     },
     "execution_count": 13,
     "metadata": {},
     "output_type": "execute_result"
    }
   ],
   "source": [
    "labels"
   ]
  },
  {
   "cell_type": "markdown",
   "metadata": {},
   "source": [
    "Let us split the training data into train and validation datasets\n",
    "Let us convert our training,validation and test data into the format accepted by tensorflow"
   ]
  },
  {
   "cell_type": "code",
   "execution_count": 14,
   "metadata": {},
   "outputs": [
    {
     "data": {
      "text/plain": [
       "<TakeDataset shapes: ((512,), (512,), (8,)), types: (tf.float64, tf.float64, tf.float32)>"
      ]
     },
     "execution_count": 14,
     "metadata": {},
     "output_type": "execute_result"
    }
   ],
   "source": [
    "dataset = tf.data.Dataset.from_tensor_slices((Xids, Xmask, labels))\n",
    "\n",
    "dataset.take(1)"
   ]
  },
  {
   "cell_type": "code",
   "execution_count": 15,
   "metadata": {},
   "outputs": [],
   "source": [
    "def map_func(input_ids, masks, labels):\n",
    "    # we convert our three-item tuple into a two-item tuple where the input item is a dictionary\n",
    "    return {'input_ids': input_ids, 'attention_mask': masks}, labels\n",
    "\n",
    "# then we use the dataset map method to apply this transformation\n",
    "dataset = dataset.map(map_func)"
   ]
  },
  {
   "cell_type": "code",
   "execution_count": 16,
   "metadata": {},
   "outputs": [
    {
     "data": {
      "text/plain": [
       "<TakeDataset shapes: ({input_ids: (512,), attention_mask: (512,)}, (8,)), types: ({input_ids: tf.float64, attention_mask: tf.float64}, tf.float32)>"
      ]
     },
     "execution_count": 16,
     "metadata": {},
     "output_type": "execute_result"
    }
   ],
   "source": [
    "dataset.take(1)"
   ]
  },
  {
   "cell_type": "code",
   "execution_count": 17,
   "metadata": {},
   "outputs": [
    {
     "data": {
      "text/plain": [
       "<TakeDataset shapes: ({input_ids: (8, 512), attention_mask: (8, 512)}, (8, 8)), types: ({input_ids: tf.float64, attention_mask: tf.float64}, tf.float32)>"
      ]
     },
     "execution_count": 17,
     "metadata": {},
     "output_type": "execute_result"
    }
   ],
   "source": [
    "batch_size = 8\n",
    "\n",
    "dataset = dataset.shuffle(10000).batch(batch_size, drop_remainder=True)\n",
    "\n",
    "dataset.take(1)"
   ]
  },
  {
   "cell_type": "code",
   "execution_count": 18,
   "metadata": {},
   "outputs": [],
   "source": [
    "split = 0.9\n",
    "\n",
    "size = int((Xids.shape[0] / batch_size) * split)"
   ]
  },
  {
   "cell_type": "code",
   "execution_count": 19,
   "metadata": {},
   "outputs": [],
   "source": [
    "train_ds = dataset.take(size)\n",
    "val_ds = dataset.skip(size)"
   ]
  },
  {
   "cell_type": "markdown",
   "metadata": {},
   "source": [
    "---"
   ]
  },
  {
   "cell_type": "code",
   "execution_count": 20,
   "metadata": {},
   "outputs": [
    {
     "name": "stderr",
     "output_type": "stream",
     "text": [
      "Some layers from the model checkpoint at bert-base-cased were not used when initializing TFBertModel: ['mlm___cls', 'nsp___cls']\n",
      "- This IS expected if you are initializing TFBertModel from the checkpoint of a model trained on another task or with another architecture (e.g. initializing a BertForSequenceClassification model from a BertForPreTraining model).\n",
      "- This IS NOT expected if you are initializing TFBertModel from the checkpoint of a model that you expect to be exactly identical (initializing a BertForSequenceClassification model from a BertForSequenceClassification model).\n",
      "All the layers of TFBertModel were initialized from the model checkpoint at bert-base-cased.\n",
      "If your task is similar to the task the model of the checkpoint was trained on, you can already use TFBertModel for predictions without further training.\n"
     ]
    }
   ],
   "source": [
    "from transformers import TFAutoModel\n",
    "\n",
    "bert = TFAutoModel.from_pretrained('bert-base-cased')"
   ]
  },
  {
   "cell_type": "code",
   "execution_count": 21,
   "metadata": {},
   "outputs": [
    {
     "name": "stdout",
     "output_type": "stream",
     "text": [
      "Model: \"tf_bert_model\"\n",
      "_________________________________________________________________\n",
      " Layer (type)                Output Shape              Param #   \n",
      "=================================================================\n",
      " bert (TFBertMainLayer)      multiple                  108310272 \n",
      "                                                                 \n",
      "=================================================================\n",
      "Total params: 108,310,272\n",
      "Trainable params: 108,310,272\n",
      "Non-trainable params: 0\n",
      "_________________________________________________________________\n"
     ]
    }
   ],
   "source": [
    "bert.summary()"
   ]
  },
  {
   "cell_type": "code",
   "execution_count": 22,
   "metadata": {},
   "outputs": [],
   "source": [
    "# two input layers, we ensure layer name variables match to dictionary keys in TF dataset\n",
    "input_ids = tf.keras.layers.Input(shape=(512,), name='input_ids', dtype='int32')\n",
    "mask = tf.keras.layers.Input(shape=(512,), name='attention_mask', dtype='int32')\n",
    "\n",
    "# we access the transformer model within our bert object using the bert attribute (eg bert.bert instead of bert)\n",
    "embeddings = bert.bert(input_ids, attention_mask=mask)[1]  # access pooled activations with [1]\n",
    "\n",
    "# convert bert embeddings into 5 output classes\n",
    "x = tf.keras.layers.Dense(1024, activation='relu')(embeddings)\n",
    "y = tf.keras.layers.Dense(8, activation='softmax', name='outputs')(x)"
   ]
  },
  {
   "cell_type": "code",
   "execution_count": 23,
   "metadata": {},
   "outputs": [],
   "source": [
    "# initialize model\n",
    "model = tf.keras.Model(inputs=[input_ids, mask], outputs=y)"
   ]
  },
  {
   "cell_type": "code",
   "execution_count": 24,
   "metadata": {},
   "outputs": [
    {
     "name": "stdout",
     "output_type": "stream",
     "text": [
      "Model: \"model\"\n",
      "__________________________________________________________________________________________________\n",
      " Layer (type)                   Output Shape         Param #     Connected to                     \n",
      "==================================================================================================\n",
      " input_ids (InputLayer)         [(None, 512)]        0           []                               \n",
      "                                                                                                  \n",
      " attention_mask (InputLayer)    [(None, 512)]        0           []                               \n",
      "                                                                                                  \n",
      " bert (TFBertMainLayer)         TFBaseModelOutputWi  108310272   ['input_ids[0][0]',              \n",
      "                                thPooling(last_hidd               'attention_mask[0][0]']         \n",
      "                                en_state=(None, 512                                               \n",
      "                                , 768),                                                           \n",
      "                                 pooler_output=(Non                                               \n",
      "                                e, 768),                                                          \n",
      "                                 hidden_states=None                                               \n",
      "                                , attentions=None)                                                \n",
      "                                                                                                  \n",
      " dense (Dense)                  (None, 1024)         787456      ['bert[0][1]']                   \n",
      "                                                                                                  \n",
      " outputs (Dense)                (None, 8)            8200        ['dense[0][0]']                  \n",
      "                                                                                                  \n",
      "==================================================================================================\n",
      "Total params: 109,105,928\n",
      "Trainable params: 109,105,928\n",
      "Non-trainable params: 0\n",
      "__________________________________________________________________________________________________\n"
     ]
    }
   ],
   "source": [
    "model.summary()"
   ]
  },
  {
   "cell_type": "code",
   "execution_count": 25,
   "metadata": {},
   "outputs": [],
   "source": [
    "optimizer = tf.keras.optimizers.Adam(learning_rate=1e-5, decay=1e-6)\n",
    "loss = tf.keras.losses.CategoricalCrossentropy()\n",
    "acc = tf.keras.metrics.CategoricalAccuracy('accuracy')\n",
    "\n",
    "model.compile(optimizer=optimizer, loss=loss, metrics=[acc])"
   ]
  },
  {
   "cell_type": "code",
   "execution_count": 26,
   "metadata": {
    "scrolled": true
   },
   "outputs": [
    {
     "name": "stdout",
     "output_type": "stream",
     "text": [
      "Epoch 1/10\n",
      "932/932 [==============================] - 268s 282ms/step - loss: 1.5332 - accuracy: 0.4544 - val_loss: 1.3231 - val_accuracy: 0.5243\n",
      "Epoch 2/10\n",
      "932/932 [==============================] - 263s 282ms/step - loss: 1.3084 - accuracy: 0.5366 - val_loss: 1.0442 - val_accuracy: 0.6408\n",
      "Epoch 3/10\n",
      "932/932 [==============================] - 263s 282ms/step - loss: 1.1173 - accuracy: 0.6066 - val_loss: 0.8554 - val_accuracy: 0.7172\n",
      "Epoch 4/10\n",
      "932/932 [==============================] - 273s 293ms/step - loss: 0.8886 - accuracy: 0.6938 - val_loss: 0.5426 - val_accuracy: 0.8240\n",
      "Epoch 5/10\n",
      "932/932 [==============================] - 272s 292ms/step - loss: 0.6546 - accuracy: 0.7800 - val_loss: 0.3486 - val_accuracy: 0.8981\n",
      "Epoch 6/10\n",
      "932/932 [==============================] - 272s 291ms/step - loss: 0.4872 - accuracy: 0.8370 - val_loss: 0.2126 - val_accuracy: 0.9393\n",
      "Epoch 7/10\n",
      "932/932 [==============================] - 281s 302ms/step - loss: 0.3582 - accuracy: 0.8820 - val_loss: 0.2004 - val_accuracy: 0.9417\n",
      "Epoch 8/10\n",
      "932/932 [==============================] - 275s 295ms/step - loss: 0.2847 - accuracy: 0.9065 - val_loss: 0.1025 - val_accuracy: 0.9733\n",
      "Epoch 9/10\n",
      "932/932 [==============================] - 283s 304ms/step - loss: 0.2293 - accuracy: 0.9242 - val_loss: 0.0945 - val_accuracy: 0.9672\n",
      "Epoch 10/10\n",
      "932/932 [==============================] - 279s 300ms/step - loss: 0.1821 - accuracy: 0.9417 - val_loss: 0.0484 - val_accuracy: 0.9867\n"
     ]
    }
   ],
   "source": [
    "history = model.fit(\n",
    "    train_ds,\n",
    "    validation_data=val_ds,\n",
    "    epochs=10\n",
    ")"
   ]
  },
  {
   "cell_type": "code",
   "execution_count": 27,
   "metadata": {},
   "outputs": [
    {
     "data": {
      "text/plain": [
       "{'loss': [1.533194899559021,\n",
       "  1.308354377746582,\n",
       "  1.117310643196106,\n",
       "  0.8886001706123352,\n",
       "  0.6546065807342529,\n",
       "  0.4871722459793091,\n",
       "  0.358204185962677,\n",
       "  0.28469955921173096,\n",
       "  0.2293398082256317,\n",
       "  0.18212135136127472],\n",
       " 'accuracy': [0.45439913868904114,\n",
       "  0.5366148352622986,\n",
       "  0.6066255569458008,\n",
       "  0.6938036680221558,\n",
       "  0.7800429463386536,\n",
       "  0.8370440006256104,\n",
       "  0.8819742202758789,\n",
       "  0.9065182209014893,\n",
       "  0.9242221117019653,\n",
       "  0.9416577219963074],\n",
       " 'val_loss': [1.3231316804885864,\n",
       "  1.0442216396331787,\n",
       "  0.8553996682167053,\n",
       "  0.5425655245780945,\n",
       "  0.3485831916332245,\n",
       "  0.21263262629508972,\n",
       "  0.20043028891086578,\n",
       "  0.1025436744093895,\n",
       "  0.09450847655534744,\n",
       "  0.048444122076034546],\n",
       " 'val_accuracy': [0.5242718458175659,\n",
       "  0.6407766938209534,\n",
       "  0.7172330021858215,\n",
       "  0.8240291476249695,\n",
       "  0.8980582356452942,\n",
       "  0.9393203854560852,\n",
       "  0.9417475461959839,\n",
       "  0.9733009934425354,\n",
       "  0.9672330021858215,\n",
       "  0.9866504669189453]}"
      ]
     },
     "execution_count": 27,
     "metadata": {},
     "output_type": "execute_result"
    }
   ],
   "source": [
    "history.history\n"
   ]
  },
  {
   "cell_type": "code",
   "execution_count": 28,
   "metadata": {},
   "outputs": [
    {
     "data": {
      "image/png": "[encoded data removed]",
      "text/plain": [
       "<Figure size 432x288 with 1 Axes>"
      ]
     },
     "metadata": {
      "needs_background": "light"
     },
     "output_type": "display_data"
    }
   ],
   "source": [
    "\n",
    "plt.plot(history.history['loss'], label=' training data')\n",
    "plt.plot(history.history['val_loss'], label='validation data)')\n",
    "plt.title('Loss for Text Classification')\n",
    "plt.ylabel('Loss value')\n",
    "plt.xlabel('No. epoch')\n",
    "plt.legend(loc=\"upper left\")\n",
    "plt.show()"
   ]
  },
  {
   "cell_type": "code",
   "execution_count": 29,
   "metadata": {
    "scrolled": true
   },
   "outputs": [
    {
     "data": {
      "image/png": "[encoded data removed]",
      "text/plain": [
       "<Figure size 432x288 with 1 Axes>"
      ]
     },
     "metadata": {
      "needs_background": "light"
     },
     "output_type": "display_data"
    }
   ],
   "source": [
    "plt.plot(history.history['accuracy'], label=' (training data)')\n",
    "plt.plot(history.history['val_accuracy'], label='CategoricalCrossentropy (validation data)')\n",
    "plt.title('CategoricalAccuracy for Text Classification')\n",
    "plt.ylabel('CategoricalAccuracy value')\n",
    "plt.xlabel('No. epoch')\n",
    "plt.legend(loc=\"upper left\")\n",
    "plt.show()\n"
   ]
  },
  {
   "cell_type": "markdown",
   "metadata": {},
   "source": [
    "#### The new model tested to be very sucessful. After only 10 epochs,we get over 90% accuracy on both training set and validation set. This model proved to be more effecteive on NLP models and text classification. "
   ]
  }
 ],
 "metadata": {
  "kernelspec": {
   "display_name": "Python 3 (ipykernel)",
   "language": "python",
   "name": "python3"
  },
  "language_info": {
   "codemirror_mode": {
    "name": "ipython",
    "version": 3
   },
   "file_extension": ".py",
   "mimetype": "text/x-python",
   "name": "python",
   "nbconvert_exporter": "python",
   "pygments_lexer": "ipython3",
   "version": "3.9.6"
  }
 },
 "nbformat": 4,
 "nbformat_minor": 4
}
